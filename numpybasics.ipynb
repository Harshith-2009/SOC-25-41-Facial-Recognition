{
 "cells": [
  {
   "cell_type": "markdown",
   "id": "cd6258c5",
   "metadata": {},
   "source": [
    "NUMPY learning \n"
   ]
  },
  {
   "cell_type": "code",
   "execution_count": 103,
   "id": "51607386",
   "metadata": {},
   "outputs": [],
   "source": [
    "import numpy as np \n",
    "import sys "
   ]
  },
  {
   "cell_type": "markdown",
   "id": "add0a37a",
   "metadata": {},
   "source": [
    "The Basics "
   ]
  },
  {
   "cell_type": "markdown",
   "id": "43bac41e",
   "metadata": {},
   "source": [
    "#Applications of numpy\n",
    "mathematics (matlab replacement)\n",
    "plotting (matplotlib)\n",
    "backend (pandas) \n",
    "machine learning . .. . . ."
   ]
  },
  {
   "cell_type": "code",
   "execution_count": 104,
   "id": "cca0006b",
   "metadata": {},
   "outputs": [
    {
     "name": "stdout",
     "output_type": "stream",
     "text": [
      "[1 2 3]\n"
     ]
    }
   ],
   "source": [
    "a = np.array([1,2,3],dtype='int16')\n",
    "print(a)"
   ]
  },
  {
   "cell_type": "code",
   "execution_count": 105,
   "id": "915c9be4",
   "metadata": {},
   "outputs": [
    {
     "name": "stdout",
     "output_type": "stream",
     "text": [
      "[[2.  3.  6. ]\n",
      " [4.5 7.9 8. ]]\n"
     ]
    }
   ],
   "source": [
    "b = np.array([[2.0,3.0,6] , [4.5,7.9,8]])\n",
    "print (b)"
   ]
  },
  {
   "cell_type": "code",
   "execution_count": 106,
   "id": "6ed3b9e0",
   "metadata": {},
   "outputs": [
    {
     "name": "stdout",
     "output_type": "stream",
     "text": [
      "1\n"
     ]
    },
    {
     "data": {
      "text/plain": [
       "2"
      ]
     },
     "execution_count": 106,
     "metadata": {},
     "output_type": "execute_result"
    }
   ],
   "source": [
    "#GET DIM \n",
    "a.ndim\n",
    "print(a.ndim)\n",
    "b.ndim"
   ]
  },
  {
   "cell_type": "code",
   "execution_count": 107,
   "id": "8dbc1351",
   "metadata": {},
   "outputs": [
    {
     "data": {
      "text/plain": [
       "(2, 3)"
      ]
     },
     "execution_count": 107,
     "metadata": {},
     "output_type": "execute_result"
    }
   ],
   "source": [
    "#get shape\n",
    "b.shape"
   ]
  },
  {
   "cell_type": "code",
   "execution_count": 108,
   "id": "1be597e7",
   "metadata": {},
   "outputs": [
    {
     "data": {
      "text/plain": [
       "dtype('int16')"
      ]
     },
     "execution_count": 108,
     "metadata": {},
     "output_type": "execute_result"
    }
   ],
   "source": [
    "#get type\n",
    "a.dtype"
   ]
  },
  {
   "cell_type": "code",
   "execution_count": 109,
   "id": "7b1e938d",
   "metadata": {},
   "outputs": [
    {
     "data": {
      "text/plain": [
       "2"
      ]
     },
     "execution_count": 109,
     "metadata": {},
     "output_type": "execute_result"
    }
   ],
   "source": [
    "#get size\n",
    "a.itemsize"
   ]
  },
  {
   "cell_type": "code",
   "execution_count": 110,
   "id": "981714ee",
   "metadata": {},
   "outputs": [
    {
     "data": {
      "text/plain": [
       "6"
      ]
     },
     "execution_count": 110,
     "metadata": {},
     "output_type": "execute_result"
    }
   ],
   "source": [
    "#get len and no bytes\n",
    "a.size\n",
    "a.nbytes # len * size"
   ]
  },
  {
   "cell_type": "markdown",
   "id": "29ed9f67",
   "metadata": {},
   "source": [
    "Accessing / changing specific elements, rows, columns, etc"
   ]
  },
  {
   "cell_type": "code",
   "execution_count": 111,
   "id": "60c6dc8a",
   "metadata": {},
   "outputs": [
    {
     "name": "stdout",
     "output_type": "stream",
     "text": [
      "[[ 1  2  3  4  5  6  7]\n",
      " [ 8  9 10 11 12 13 14]]\n"
     ]
    },
    {
     "data": {
      "text/plain": [
       "array([ 4, 11])"
      ]
     },
     "execution_count": 111,
     "metadata": {},
     "output_type": "execute_result"
    }
   ],
   "source": [
    "a = np.array([[1,2,3,4,5,6,7],[8,9,10,11,12,13,14]])\n",
    "print (a)\n",
    "a.shape\n",
    "\n",
    "#get specific element\n",
    "a[1,4] #negative notation too \n",
    "\n",
    "#specific row \n",
    "a[0,:]\n",
    "\n",
    "#specific col\n",
    "a[:,3]"
   ]
  },
  {
   "cell_type": "code",
   "execution_count": 112,
   "id": "dc80ebb1",
   "metadata": {},
   "outputs": [
    {
     "data": {
      "text/plain": [
       "array([2, 4, 6])"
      ]
     },
     "execution_count": 112,
     "metadata": {},
     "output_type": "execute_result"
    }
   ],
   "source": [
    "#start ind to end ind and stepsize\n",
    "a[0,1:6:2] #end ind exclusive"
   ]
  },
  {
   "cell_type": "code",
   "execution_count": 113,
   "id": "633ab515",
   "metadata": {},
   "outputs": [
    {
     "name": "stdout",
     "output_type": "stream",
     "text": [
      "[[ 1  2  3  4  5  6  7]\n",
      " [ 8  9 10 11 12 20 14]]\n",
      "[[ 1  2  1  4  5  6  7]\n",
      " [ 8  9  2 11 12 20 14]]\n"
     ]
    }
   ],
   "source": [
    "a[1, 5] = 20\n",
    "print(a)\n",
    "\n",
    "a[:,2] = [1,2]\n",
    "print(a)"
   ]
  },
  {
   "cell_type": "code",
   "execution_count": 114,
   "id": "673d2b57",
   "metadata": {},
   "outputs": [
    {
     "name": "stdout",
     "output_type": "stream",
     "text": [
      "[[[1 2]\n",
      "  [3 4]]\n",
      "\n",
      " [[5 6]\n",
      "  [7 8]]]\n"
     ]
    }
   ],
   "source": [
    "#3d example\n",
    "b = np.array([[[1,2],[3,4]] , [[5,6],[7,8]]])\n",
    "print (b)"
   ]
  },
  {
   "cell_type": "code",
   "execution_count": 115,
   "id": "80afdcf8",
   "metadata": {},
   "outputs": [
    {
     "data": {
      "text/plain": [
       "array([2, 4])"
      ]
     },
     "execution_count": 115,
     "metadata": {},
     "output_type": "execute_result"
    }
   ],
   "source": [
    "#work outside in for specific element\n",
    "b[0,:,1]"
   ]
  },
  {
   "cell_type": "code",
   "execution_count": 116,
   "id": "dc5a5440",
   "metadata": {},
   "outputs": [
    {
     "name": "stdout",
     "output_type": "stream",
     "text": [
      "[[[ 1  2]\n",
      "  [69 69]]\n",
      "\n",
      " [[ 5  6]\n",
      "  [69 69]]]\n"
     ]
    }
   ],
   "source": [
    "b[:,1,:] = [[69,69],[69,69]]\n",
    "print(b)"
   ]
  },
  {
   "cell_type": "markdown",
   "id": "aff7bf11",
   "metadata": {},
   "source": [
    "Initializing diff types of arrays"
   ]
  },
  {
   "cell_type": "code",
   "execution_count": 117,
   "id": "3c49dc74",
   "metadata": {},
   "outputs": [
    {
     "data": {
      "text/plain": [
       "array([[99., 99.],\n",
       "       [99., 99.]], dtype=float32)"
      ]
     },
     "execution_count": 117,
     "metadata": {},
     "output_type": "execute_result"
    }
   ],
   "source": [
    "#all 0s matrix\n",
    "np.zeros((2,3), dtype='int32') #ones also similar\n",
    "\n",
    "#any other number\n",
    "np.full((2,2),99,dtype='float32')\n"
   ]
  },
  {
   "cell_type": "code",
   "execution_count": 118,
   "id": "6a4446ef",
   "metadata": {},
   "outputs": [
    {
     "data": {
      "text/plain": [
       "array([[4, 4, 4, 4, 4, 4, 4],\n",
       "       [4, 4, 4, 4, 4, 4, 4]])"
      ]
     },
     "execution_count": 118,
     "metadata": {},
     "output_type": "execute_result"
    }
   ],
   "source": [
    "#any other number (full_like)\n",
    "np.full_like(a,4)"
   ]
  },
  {
   "cell_type": "code",
   "execution_count": 119,
   "id": "122b0e90",
   "metadata": {},
   "outputs": [
    {
     "data": {
      "text/plain": [
       "array([[0.9638464 , 0.80554356],\n",
       "       [0.50716083, 0.99755683],\n",
       "       [0.31106873, 0.41724967],\n",
       "       [0.05688187, 0.38612967]])"
      ]
     },
     "execution_count": 119,
     "metadata": {},
     "output_type": "execute_result"
    }
   ],
   "source": [
    "#random decim numbers\n",
    "np.random.randint((4,2))\n",
    "np.random.rand(4,2)"
   ]
  },
  {
   "cell_type": "code",
   "execution_count": 120,
   "id": "19df6bb3",
   "metadata": {},
   "outputs": [
    {
     "data": {
      "text/plain": [
       "array([[0.58786083, 0.77971702, 0.62043625, 0.11118283, 0.47326271,\n",
       "        0.51750105, 0.52533695],\n",
       "       [0.86508624, 0.50303225, 0.63422883, 0.05863572, 0.40833373,\n",
       "        0.60963753, 0.07869276]])"
      ]
     },
     "execution_count": 120,
     "metadata": {},
     "output_type": "execute_result"
    }
   ],
   "source": [
    "#with some shape \n",
    "np.random.random_sample(a.shape)"
   ]
  },
  {
   "cell_type": "code",
   "execution_count": 121,
   "id": "7b1ae354",
   "metadata": {},
   "outputs": [
    {
     "data": {
      "text/plain": [
       "array([[ 2,  0,  6, -7],\n",
       "       [-5, -9,  9, -6],\n",
       "       [ 0, -4,  4,  5],\n",
       "       [ 0,  6, -8, -7]], dtype=int32)"
      ]
     },
     "execution_count": 121,
     "metadata": {},
     "output_type": "execute_result"
    }
   ],
   "source": [
    "np.random.randint(-10, 10, size=(4,4)) #exclusive"
   ]
  },
  {
   "cell_type": "code",
   "execution_count": 122,
   "id": "b34bdc37",
   "metadata": {},
   "outputs": [
    {
     "data": {
      "text/plain": [
       "array([[1., 0., 0., 0., 0.],\n",
       "       [0., 1., 0., 0., 0.],\n",
       "       [0., 0., 1., 0., 0.],\n",
       "       [0., 0., 0., 1., 0.],\n",
       "       [0., 0., 0., 0., 1.]])"
      ]
     },
     "execution_count": 122,
     "metadata": {},
     "output_type": "execute_result"
    }
   ],
   "source": [
    "#identity matrix\n",
    "np.identity(5) "
   ]
  },
  {
   "cell_type": "code",
   "execution_count": 123,
   "id": "dce865e0",
   "metadata": {},
   "outputs": [
    {
     "name": "stdout",
     "output_type": "stream",
     "text": [
      "[[1 2 3]\n",
      " [1 2 3]\n",
      " [1 2 3]\n",
      " [1 2 3]\n",
      " [1 2 3]]\n"
     ]
    }
   ],
   "source": [
    "arr = np.array([[1,2,3]]) #make it 2 dim for repeating with axis 2d \n",
    "r = np.repeat(arr, 5,axis = 0)\n",
    "print(r)"
   ]
  },
  {
   "cell_type": "code",
   "execution_count": 124,
   "id": "a02d1f73",
   "metadata": {},
   "outputs": [
    {
     "ename": "ValueError",
     "evalue": "invalid literal for int() with base 10: ''",
     "output_type": "error",
     "traceback": [
      "\u001b[1;31m---------------------------------------------------------------------------\u001b[0m",
      "\u001b[1;31mValueError\u001b[0m                                Traceback (most recent call last)",
      "Cell \u001b[1;32mIn[124], line 1\u001b[0m\n\u001b[1;32m----> 1\u001b[0m ind \u001b[38;5;241m=\u001b[39m \u001b[38;5;28;43mint\u001b[39;49m\u001b[43m(\u001b[49m\u001b[38;5;28;43minput\u001b[39;49m\u001b[43m(\u001b[49m\u001b[38;5;124;43m\"\u001b[39;49m\u001b[38;5;124;43mnumber idiot: \u001b[39;49m\u001b[38;5;124;43m\"\u001b[39;49m\u001b[43m)\u001b[49m\u001b[43m)\u001b[49m\n\u001b[0;32m      2\u001b[0m har \u001b[38;5;241m=\u001b[39m np\u001b[38;5;241m.\u001b[39mfull((ind,ind) , \u001b[38;5;241m1\u001b[39m)\n\u001b[0;32m      3\u001b[0m \u001b[38;5;28;01mfor\u001b[39;00m i \u001b[38;5;129;01min\u001b[39;00m \u001b[38;5;28mrange\u001b[39m(\u001b[38;5;241m1\u001b[39m,ind \u001b[38;5;241m-\u001b[39m \u001b[38;5;241m1\u001b[39m):\n",
      "\u001b[1;31mValueError\u001b[0m: invalid literal for int() with base 10: ''"
     ]
    }
   ],
   "source": [
    "ind = int(input(\"number idiot: \"))\n",
    "har = np.full((ind,ind) , 1)\n",
    "for i in range(1,ind - 1):\n",
    "    har[i, 1:ind-1] = 0\n",
    "har[ind//2,ind//2] = 9\n",
    "\n",
    "print(har)"
   ]
  },
  {
   "cell_type": "code",
   "execution_count": null,
   "id": "bd743b5c",
   "metadata": {},
   "outputs": [
    {
     "data": {
      "text/plain": [
       "array([1, 2, 3])"
      ]
     },
     "execution_count": 96,
     "metadata": {},
     "output_type": "execute_result"
    }
   ],
   "source": [
    "#### be careful when copying arrays \n",
    "a = np.array([1,2,3])\n",
    "# b = a #directly pointing \n",
    "c = a.copy()\n",
    "c[0]=24\n",
    "a # a changes if direct"
   ]
  },
  {
   "cell_type": "markdown",
   "id": "2f42665f",
   "metadata": {},
   "source": [
    "Mathematics"
   ]
  },
  {
   "cell_type": "code",
   "execution_count": null,
   "id": "e3472198",
   "metadata": {},
   "outputs": [
    {
     "data": {
      "text/plain": [
       "array([ 0.28366219,  0.96017029,  0.75390225, -0.14550003])"
      ]
     },
     "execution_count": 102,
     "metadata": {},
     "output_type": "execute_result"
    }
   ],
   "source": [
    "a = np.array([1,2,3,4])\n",
    "\n",
    "# you can treat a as int and apply general operations \n",
    "\n",
    "a * 4 \n",
    "a += 4\n",
    "\n",
    "b = a.copy()\n",
    "a + b + a\n",
    "\n",
    "np.cos(a)\n",
    "# for more scipy . . . . ."
   ]
  },
  {
   "cell_type": "markdown",
   "id": "d95619b3",
   "metadata": {},
   "source": [
    "linear algebra"
   ]
  },
  {
   "cell_type": "code",
   "execution_count": 127,
   "id": "d06bd362",
   "metadata": {},
   "outputs": [
    {
     "name": "stdout",
     "output_type": "stream",
     "text": [
      "[[1. 1. 1.]\n",
      " [1. 1. 1.]]\n",
      "[[2 2]\n",
      " [2 2]\n",
      " [2 2]]\n"
     ]
    },
    {
     "data": {
      "text/plain": [
       "array([[6., 6.],\n",
       "       [6., 6.]])"
      ]
     },
     "execution_count": 127,
     "metadata": {},
     "output_type": "execute_result"
    }
   ],
   "source": [
    "a = np.ones((2,3))\n",
    "print(a)\n",
    "\n",
    "b = np.full((3,2),2)\n",
    "print(b)\n",
    "\n",
    "#matrix mul\n",
    "\n",
    "np.matmul(a,b)"
   ]
  },
  {
   "cell_type": "code",
   "execution_count": 128,
   "id": "14d100db",
   "metadata": {},
   "outputs": [
    {
     "data": {
      "text/plain": [
       "np.float64(1.0)"
      ]
     },
     "execution_count": 128,
     "metadata": {},
     "output_type": "execute_result"
    }
   ],
   "source": [
    "c = np.identity(5)\n",
    "np.linalg.det(c)\n",
    "\n",
    "# scipy linalg thing for more stuff"
   ]
  },
  {
   "cell_type": "markdown",
   "id": "766d0366",
   "metadata": {},
   "source": [
    "#statistics"
   ]
  },
  {
   "cell_type": "code",
   "execution_count": 130,
   "id": "8cf74311",
   "metadata": {},
   "outputs": [
    {
     "data": {
      "text/plain": [
       "array([[1, 2, 3],\n",
       "       [4, 5, 6]])"
      ]
     },
     "execution_count": 130,
     "metadata": {},
     "output_type": "execute_result"
    }
   ],
   "source": [
    "stats = np.array([[1,2,3],[4,5,6]])\n",
    "stats \n"
   ]
  },
  {
   "cell_type": "code",
   "execution_count": 133,
   "id": "b59bdd21",
   "metadata": {},
   "outputs": [
    {
     "data": {
      "text/plain": [
       "array([ 6, 15])"
      ]
     },
     "execution_count": 133,
     "metadata": {},
     "output_type": "execute_result"
    }
   ],
   "source": [
    "np.min(stats,axis=1) #same max\n",
    "np.sum(stats,axis = 1)"
   ]
  },
  {
   "cell_type": "markdown",
   "id": "6640deb8",
   "metadata": {},
   "source": [
    "Reorganizing arrays"
   ]
  },
  {
   "cell_type": "code",
   "execution_count": 135,
   "id": "61cc0dfc",
   "metadata": {},
   "outputs": [
    {
     "name": "stdout",
     "output_type": "stream",
     "text": [
      "[[ 1  2  3 19]\n",
      " [ 4  5  6 91]]\n",
      "[[[ 1  2]\n",
      "  [ 3 19]]\n",
      "\n",
      " [[ 4  5]\n",
      "  [ 6 91]]]\n"
     ]
    }
   ],
   "source": [
    "before = np.array([[1,2,3,19],[4,5,6,91]])\n",
    "print(before)\n",
    "\n",
    "after = before.reshape((2,2,2))\n",
    "print(after)"
   ]
  },
  {
   "cell_type": "code",
   "execution_count": 141,
   "id": "e23feebe",
   "metadata": {},
   "outputs": [
    {
     "data": {
      "text/plain": [
       "array([[1],\n",
       "       [2]])"
      ]
     },
     "execution_count": 141,
     "metadata": {},
     "output_type": "execute_result"
    }
   ],
   "source": [
    "# vertical stacks \n",
    "v1 = np.array([1])\n",
    "v2 = np.array([2])\n",
    "\n",
    "np.vstack([v1,v2]) #hstack for horizontal"
   ]
  },
  {
   "cell_type": "markdown",
   "id": "f1363178",
   "metadata": {},
   "source": [
    "Load Data from file"
   ]
  },
  {
   "cell_type": "code",
   "execution_count": 148,
   "id": "01c97734",
   "metadata": {},
   "outputs": [
    {
     "data": {
      "text/plain": [
       "array([[ 1,  2,  2,  3,  3,  4,  4,  5,  5, 56],\n",
       "       [ 3,  5,  5,  6,  6,  5,  6,  7,  7,  7],\n",
       "       [ 9,  8,  6,  5,  4,  3,  2,  4,  5,  6]], dtype=int32)"
      ]
     },
     "execution_count": 148,
     "metadata": {},
     "output_type": "execute_result"
    }
   ],
   "source": [
    "filedata = np.genfromtxt('data.txt', delimiter = ',')\n",
    "filedata.astype('int32')"
   ]
  },
  {
   "cell_type": "markdown",
   "id": "66149bac",
   "metadata": {},
   "source": [
    "#### Boolean Masking and Advanced indexing\n"
   ]
  },
  {
   "cell_type": "code",
   "execution_count": 149,
   "id": "77b37d14",
   "metadata": {},
   "outputs": [
    {
     "data": {
      "text/plain": [
       "array([[False, False, False, False, False, False, False, False, False,\n",
       "         True],\n",
       "       [False, False, False,  True,  True, False,  True,  True,  True,\n",
       "         True],\n",
       "       [ True,  True,  True, False, False, False, False, False, False,\n",
       "         True]])"
      ]
     },
     "execution_count": 149,
     "metadata": {},
     "output_type": "execute_result"
    }
   ],
   "source": [
    "filedata > 5"
   ]
  },
  {
   "cell_type": "code",
   "execution_count": 150,
   "id": "aff87fc6",
   "metadata": {},
   "outputs": [
    {
     "data": {
      "text/plain": [
       "array([3, 4])"
      ]
     },
     "execution_count": 150,
     "metadata": {},
     "output_type": "execute_result"
    }
   ],
   "source": [
    "#you can index with a list in numpy\n",
    "a = np.array([1,2,3,4])\n",
    "a[[2,3]]"
   ]
  },
  {
   "cell_type": "code",
   "execution_count": 153,
   "id": "a1c84c3b",
   "metadata": {},
   "outputs": [
    {
     "data": {
      "text/plain": [
       "array([False, False, False, False, False, False, False, False, False,\n",
       "        True])"
      ]
     },
     "execution_count": 153,
     "metadata": {},
     "output_type": "execute_result"
    }
   ],
   "source": [
    "np.any(filedata>55 , axis = 0)"
   ]
  }
 ],
 "metadata": {
  "kernelspec": {
   "display_name": "base",
   "language": "python",
   "name": "python3"
  },
  "language_info": {
   "codemirror_mode": {
    "name": "ipython",
    "version": 3
   },
   "file_extension": ".py",
   "mimetype": "text/x-python",
   "name": "python",
   "nbconvert_exporter": "python",
   "pygments_lexer": "ipython3",
   "version": "3.12.7"
  }
 },
 "nbformat": 4,
 "nbformat_minor": 5
}
